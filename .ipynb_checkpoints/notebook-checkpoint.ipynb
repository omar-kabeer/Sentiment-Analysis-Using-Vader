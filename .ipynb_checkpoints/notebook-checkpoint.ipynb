{
 "cells": [
  {
   "cell_type": "markdown",
   "id": "348f1af0",
   "metadata": {},
   "source": [
    "# Project Title\n",
    "\n",
    "## Author: Umar Kabir\n",
    "\n",
    "Date: [Current Date]"
   ]
  },
  {
   "cell_type": "markdown",
   "id": "2ad33f76",
   "metadata": {},
   "source": [
    "### Table of Contents\n",
    "\n",
    "- [Introduction](#introduction)\n",
    "  * [Overview](#overview)\n",
    "  * [Problem Statement](#problem-statement)\n",
    "- [Importing Dependencies](#importing-dependencies)\n",
    "- [Create a Connection to Comet](#comet)\n",
    "- [Data](#data)\n",
    "  * [Data Sources](#data-sources)\n",
    "  * [Data Format](#data-format)\n",
    "  * [Data Dictionary](#data-dictionary)\n",
    "- [Exploratory Data Analysis](#exploratory-data-analysis)\n",
    "  * [Data Exploration](#data-exploration)\n",
    "  * [Data Visualization](#data-visualization)\n",
    "  * [Summary Statistics](#summary-statistics)\n",
    "  * [Feature Correlation](#feature-correlation)\n",
    "- [Data Preparation](#data-preparation)\n",
    "  * [Data Cleaning](#data-cleaning)\n",
    "  * [Feature Engineering](#feature-engineering)\n",
    "  * [Data Transformation](#data-transformation)\n",
    "- [Modeling](#modeling)\n",
    "  * [Model Selection](#model-selection)\n",
    "  * [Model Training](#model-training)\n",
    "  * [Model Evaluation](#model-evaluation)\n",
    "  * [Hyperparameter Tuning](#hyperparameter-tuning)\n",
    "- [Results](#results)\n",
    "  * [Analysis Results](#analysis-results)\n",
    "  * [Model Performance](#model-performance)\n",
    "  * [Feature Importance](#feature-importance)\n",
    "  * [Implications](#implications)\n",
    "- [Conclusion](#conclusion)\n",
    "  * [Summary](#summary)\n",
    "  * [Limitations](#limitations)\n",
    "  * [Recommendations](#recommendations)\n",
    "- [References](#references)\n",
    "- [Code](#code)"
   ]
  },
  {
   "cell_type": "markdown",
   "id": "cb7bc0f0",
   "metadata": {},
   "source": [
    "<a id='introduction'></a>\n",
    "### Introduction\n",
    "[back to top](#table-of-contents)"
   ]
  },
  {
   "cell_type": "markdown",
   "id": "da06c58d",
   "metadata": {},
   "source": [
    "<a id='overview'></a>\n",
    "#### Overview\n",
    "[back to top](#table-of-contents)"
   ]
  },
  {
   "cell_type": "markdown",
   "id": "74cb2b87",
   "metadata": {},
   "source": [
    "<a id='problem-statement'></a>\n",
    "#### Problem Statement\n",
    "[back to top](#table-of-contents)"
   ]
  },
  {
   "cell_type": "markdown",
   "id": "bafda93c",
   "metadata": {},
   "source": [
    "<a id='importing-dependencies'></a>\n",
    "### Importing Dependencies\n",
    "[back to top](#table-of-contents)"
   ]
  },
  {
   "cell_type": "markdown",
   "id": "7b40d8d4",
   "metadata": {},
   "source": [
    "<a id='comet'></a>\n",
    "### Create a Connection to Comet\n",
    "[back to top](#table-of-contents)"
   ]
  },
  {
   "cell_type": "markdown",
   "id": "7193821a",
   "metadata": {},
   "source": [
    "<a id='data'></a>\n",
    "### Data\n",
    "[back to top](#table-of-contents)"
   ]
  },
  {
   "cell_type": "markdown",
   "id": "1d9dd49c",
   "metadata": {},
   "source": [
    "This Online Retail II data set contains all the transactions occurring for a UK-based and registered, non-store online retail between 01/12/2009 and 09/12/2011.The company mainly sells unique all-occasion gift-ware. Many customers of the company are wholesalers."
   ]
  },
  {
   "cell_type": "markdown",
   "id": "182b6d0f",
   "metadata": {},
   "source": [
    "<a id='data-sources'></a>\n",
    "#### Data Sources\n",
    "[back to top](#table-of-contents)"
   ]
  },
  {
   "cell_type": "markdown",
   "id": "01c29bfa",
   "metadata": {},
   "source": [
    "Dr. Daqing Chen, Course Director: MSc Data Science. chend '@' lsbu.ac.uk, School of Engineering, London South Bank University, London SE1 0AA, UK."
   ]
  },
  {
   "cell_type": "code",
   "execution_count": 7,
   "id": "1c6407c3",
   "metadata": {},
   "outputs": [
    {
     "ename": "KeyboardInterrupt",
     "evalue": "",
     "output_type": "error",
     "traceback": [
      "\u001b[0;31m---------------------------------------------------------------------------\u001b[0m",
      "\u001b[0;31mAttributeError\u001b[0m                            Traceback (most recent call last)",
      "Cell \u001b[0;32mIn[7], line 20\u001b[0m, in \u001b[0;36mTwitter_scraper.get_comments\u001b[0;34m(self, username, status_id)\u001b[0m\n\u001b[1;32m     19\u001b[0m \u001b[38;5;28;01mtry\u001b[39;00m:\n\u001b[0;32m---> 20\u001b[0m     \u001b[38;5;28mself\u001b[39m\u001b[38;5;241m.\u001b[39mload_more_comments \u001b[38;5;241m=\u001b[39m \u001b[38;5;28;43mself\u001b[39;49m\u001b[38;5;241;43m.\u001b[39;49m\u001b[43mbrowser\u001b[49m\u001b[38;5;241;43m.\u001b[39;49m\u001b[43mfind_element_by_class_name\u001b[49m(\u001b[38;5;124m\"\u001b[39m\u001b[38;5;124mjs-stream-container\u001b[39m\u001b[38;5;124m\"\u001b[39m)\n\u001b[1;32m     21\u001b[0m     \u001b[38;5;28mself\u001b[39m\u001b[38;5;241m.\u001b[39maction \u001b[38;5;241m=\u001b[39m ActionChains(\u001b[38;5;28mself\u001b[39m\u001b[38;5;241m.\u001b[39mbrowser)\n",
      "\u001b[0;31mAttributeError\u001b[0m: 'WebDriver' object has no attribute 'find_element_by_class_name'",
      "\nDuring handling of the above exception, another exception occurred:\n",
      "\u001b[0;31mKeyboardInterrupt\u001b[0m                         Traceback (most recent call last)",
      "Cell \u001b[0;32mIn[7], line 54\u001b[0m\n\u001b[1;32m     51\u001b[0m status_id \u001b[38;5;241m=\u001b[39m \u001b[38;5;124m\"\u001b[39m\u001b[38;5;124m1641138979545153540\u001b[39m\u001b[38;5;124m\"\u001b[39m\n\u001b[1;32m     53\u001b[0m scraper \u001b[38;5;241m=\u001b[39m Twitter_scraper()\n\u001b[0;32m---> 54\u001b[0m \u001b[43mscraper\u001b[49m\u001b[38;5;241;43m.\u001b[39;49m\u001b[43mget_comments\u001b[49m\u001b[43m(\u001b[49m\u001b[43musername\u001b[49m\u001b[43m,\u001b[49m\u001b[43m \u001b[49m\u001b[43mstatus_id\u001b[49m\u001b[43m)\u001b[49m\n",
      "Cell \u001b[0;32mIn[7], line 20\u001b[0m, in \u001b[0;36mTwitter_scraper.get_comments\u001b[0;34m(self, username, status_id)\u001b[0m\n\u001b[1;32m     18\u001b[0m \u001b[38;5;28;01mwhile\u001b[39;00m \u001b[38;5;28;01mTrue\u001b[39;00m:\n\u001b[1;32m     19\u001b[0m     \u001b[38;5;28;01mtry\u001b[39;00m:\n\u001b[0;32m---> 20\u001b[0m         \u001b[38;5;28mself\u001b[39m\u001b[38;5;241m.\u001b[39mload_more_comments \u001b[38;5;241m=\u001b[39m \u001b[38;5;28;43mself\u001b[39;49m\u001b[38;5;241;43m.\u001b[39;49m\u001b[43mbrowser\u001b[49m\u001b[38;5;241;43m.\u001b[39;49m\u001b[43mfind_element_by_class_name\u001b[49m(\u001b[38;5;124m\"\u001b[39m\u001b[38;5;124mjs-stream-container\u001b[39m\u001b[38;5;124m\"\u001b[39m)\n\u001b[1;32m     21\u001b[0m         \u001b[38;5;28mself\u001b[39m\u001b[38;5;241m.\u001b[39maction \u001b[38;5;241m=\u001b[39m ActionChains(\u001b[38;5;28mself\u001b[39m\u001b[38;5;241m.\u001b[39mbrowser)\n\u001b[1;32m     22\u001b[0m         \u001b[38;5;28mself\u001b[39m\u001b[38;5;241m.\u001b[39maction\u001b[38;5;241m.\u001b[39mmove_to_element(\u001b[38;5;28mself\u001b[39m\u001b[38;5;241m.\u001b[39mload_more_comments)\n",
      "\u001b[0;31mKeyboardInterrupt\u001b[0m: "
     ]
    }
   ],
   "source": [
    "import time\n",
    "from selenium.webdriver.firefox.options import Options\n",
    "from selenium.webdriver import Firefox\n",
    "from selenium.webdriver.common.action_chains import ActionChains\n",
    "from selenium.webdriver.common.keys import Keys\n",
    "\n",
    "\n",
    "class Twitter_scraper:\n",
    "\n",
    "    def __init__(self):\n",
    "        self.firefox_options = Options()\n",
    "        self.browser = Firefox(options=self.firefox_options)\n",
    "\n",
    "    def get_comments(self, username, status_id):\n",
    "        self.browser.get(\"https://twitter.com/\" + username + \"/status/\" + status_id)\n",
    "        time.sleep(3)\n",
    "\n",
    "        while True:\n",
    "            try:\n",
    "                self.load_more_comments = self.browser.find_element_by_class_name(\"js-stream-container\")\n",
    "                self.action = ActionChains(self.browser)\n",
    "                self.action.move_to_element(self.load_more_comments)\n",
    "                self.load_more_comments.click()\n",
    "                time.sleep(4)\n",
    "            except Exception as e:\n",
    "                pass\n",
    "\n",
    "        time.sleep(5)\n",
    "        self.comments = self.browser.find_elements_by_class_name(\"tweet\")\n",
    "        with open('comments.csv', 'w', newline='') as f:\n",
    "            writer = csv.writer(f)\n",
    "            writer.writerow(['user', 'content', 'time'])\n",
    "            for comment in self.comments:\n",
    "                self.user = comment.find_element_by_class_name(\"username\").text\n",
    "                self.content = comment.find_element_by_class_name(\"tweet-text\").text\n",
    "                self.time = comment.find_element_by_class_name(\"_timestamp\").get_attribute(\"datetime\")\n",
    "                writer.writerow([self.user, self.content, self.time])\n",
    "            self.commenter = comment.find_element_by_class_name(\"fullname\").text\n",
    "            with open('commenters.csv', 'w', newline='') as f:\n",
    "                writer = csv.writer(f)\n",
    "                writer.writerow(['commenter'])\n",
    "                for commenter in self.commenters:\n",
    "                    writer.writerow([commenter])\n",
    "            time.sleep(5)\n",
    "\n",
    "        return self.comment_details\n",
    "\n",
    "\n",
    "if __name__ == \"__main__\":\n",
    "    username = \"davido\"\n",
    "    status_id = \"1641138979545153540\"\n",
    "\n",
    "    scraper = Twitter_scraper()\n",
    "    scraper.get_comments(username, status_id)"
   ]
  },
  {
   "cell_type": "code",
   "execution_count": null,
   "id": "19eccc5f",
   "metadata": {},
   "outputs": [],
   "source": [
    "import time\n",
    "from selenium import webdriver\n",
    "from selenium.webdriver.common.action_chains import ActionChains\n",
    "from selenium.webdriver.common.keys import Keys\n",
    "\n",
    "\n",
    "class Twitter_scraper:\n",
    "\n",
    "    def __init__(self):\n",
    "        self.browser = webdriver.Edge()\n",
    "\n",
    "    def get_comments(self, username, status_id):\n",
    "        self.browser.get(\"https://twitter.com/\" + username + \"/status/\" + status_id)\n",
    "        time.sleep(3)\n",
    "\n",
    "        while True:\n",
    "            try:\n",
    "                self.load_more_comments = self.browser.find_element_by_class_name(\"js-stream-container\")\n",
    "                self.action = ActionChains(self.browser)\n",
    "                self.action.move_to_element(self.load_more_comments)\n",
    "                self.load_more_comments.click()\n",
    "                time.sleep(4)\n",
    "            except Exception as e:\n",
    "                pass\n",
    "\n",
    "        time.sleep(5)\n",
    "        self.comments = self.browser.find_elements_by_class_name(\"tweet\")\n",
    "        with open('comments.csv', 'w', newline='') as f:\n",
    "            writer = csv.writer(f)\n",
    "            writer.writerow(['user', 'content', 'time'])\n",
    "            for comment in self.comments:\n",
    "                self.user = comment.find_element_by_class_name(\"username\").text\n",
    "                self.content = comment.find_element_by_class_name(\"tweet-text\").text\n",
    "                self.time = comment.find_element_by_class_name(\"_timestamp\").get_attribute(\"datetime\")\n",
    "                writer.writerow([self.user, self.content, self.time])\n",
    "            self.commenter = comment.find_element_by_class_name(\"fullname\").text\n",
    "            with open('commenters.csv', 'w', newline='') as f:\n",
    "                writer = csv.writer(f)\n",
    "                writer.writerow(['commenter'])\n",
    "                for commenter in self.commenters:\n",
    "                    writer.writerow([commenter])\n",
    "            time.sleep(5)\n",
    "\n",
    "    return self.comment_details\n",
    "\n",
    "\n",
    "if __name__ == \"__main__\":\n",
    "    username = \"davido\"\n",
    "    status_id = \"1641138979545153540\"\n",
    "\n",
    "    scraper = Twitter_scraper()\n",
    "    scraper.get_comments(username, status_id)\n"
   ]
  },
  {
   "cell_type": "markdown",
   "id": "62020182",
   "metadata": {},
   "source": [
    "<a id='data-format'></a>\n",
    "#### Data Format\n",
    "[back to top](#table-of-contents)"
   ]
  },
  {
   "cell_type": "markdown",
   "id": "1733208a",
   "metadata": {},
   "source": [
    "<a id='data-dictionary'></a>\n",
    "#### Data Dictionary\n",
    "[back to top](#table-of-contents)"
   ]
  },
  {
   "cell_type": "markdown",
   "id": "5d5b57fe",
   "metadata": {},
   "source": [
    "<a id='exploratory-data-analysis'></a>\n",
    "### Exploratory Data Analysis\n",
    "[back to top](#table-of-contents)"
   ]
  },
  {
   "cell_type": "markdown",
   "id": "613915dc",
   "metadata": {},
   "source": [
    "<a id='data-exploration'></a>\n",
    "#### Data Exploration\n",
    "[back to top](#table-of-contents)"
   ]
  },
  {
   "cell_type": "markdown",
   "id": "fab1d39c",
   "metadata": {},
   "source": [
    "<a id='data-visualization'></a>\n",
    "#### Data Visualization\n",
    "[back to top](#table-of-contents)"
   ]
  },
  {
   "cell_type": "markdown",
   "id": "a80e01e0",
   "metadata": {},
   "source": [
    "<a id='summary-statistics'></a>\n",
    "#### Summary Statistics\n",
    "[back to top](#table-of-contents)"
   ]
  },
  {
   "cell_type": "markdown",
   "id": "2377a37f",
   "metadata": {},
   "source": [
    "<a id='feature-correlation'></a>\n",
    "#### Feature Correlation\n",
    "[back to top](#table-of-contents)"
   ]
  },
  {
   "cell_type": "markdown",
   "id": "98e0bd7c",
   "metadata": {},
   "source": [
    "<a id='data-preparation'></a>\n",
    "### Data Preparation\n",
    "[back to top](#table-of-contents)"
   ]
  },
  {
   "cell_type": "markdown",
   "id": "c77fdda0",
   "metadata": {},
   "source": [
    "<a id='data-cleaning'></a>\n",
    "#### Data Cleaning\n",
    "[back to top](#table-of-contents)"
   ]
  },
  {
   "cell_type": "markdown",
   "id": "502405d3",
   "metadata": {},
   "source": [
    "<a id='feature-engineering'></a>\n",
    "#### Feature Engineering\n",
    "[back to top](#table-of-contents)"
   ]
  },
  {
   "cell_type": "markdown",
   "id": "36f53cc7",
   "metadata": {},
   "source": [
    "<a id='data-transformation'></a>\n",
    "#### Data Transformation\n",
    "[back to top](#table-of-contents)\n",
    "<a id='modeling'></a>"
   ]
  },
  {
   "cell_type": "markdown",
   "id": "9bcb7bb7",
   "metadata": {},
   "source": [
    "<a id='modeling'></a>\n",
    "\n",
    "### Modeling\n",
    "[back to top](#table-of-contents)"
   ]
  },
  {
   "cell_type": "markdown",
   "id": "97d63bf1",
   "metadata": {},
   "source": [
    "<a id='model-selection'></a>\n",
    "\n",
    "#### Model Selection\n",
    "[back to top](#table-of-contents)"
   ]
  },
  {
   "cell_type": "markdown",
   "id": "d6bd781a",
   "metadata": {},
   "source": [
    "<a id='model-training'></a>\n",
    "\n",
    "#### Model Training\n",
    "[back to top](#table-of-contents)"
   ]
  },
  {
   "cell_type": "markdown",
   "id": "81842569",
   "metadata": {},
   "source": [
    "<a id='model-evaluation'></a>\n",
    "\n",
    "#### Model Evaluation\n",
    "[back to top](#table-of-contents)"
   ]
  },
  {
   "cell_type": "markdown",
   "id": "f908bff1",
   "metadata": {},
   "source": [
    "<a id='hyperparameter-tuning'></a>\n",
    "#### Hyperparameter Tuning\n",
    "[back to top](#table-of-contents)\n",
    "\n"
   ]
  },
  {
   "cell_type": "markdown",
   "id": "3e6f9884",
   "metadata": {},
   "source": [
    "<a id='results'></a>\n",
    "### Results\n",
    "[back to top](#table-of-contents)"
   ]
  },
  {
   "cell_type": "markdown",
   "id": "6fe4e0a3",
   "metadata": {},
   "source": [
    "<a id='analysis-results'></a>\n",
    "\n",
    "#### Analysis Results\n",
    "[back to top](#table-of-contents)"
   ]
  },
  {
   "cell_type": "markdown",
   "id": "9268d80c",
   "metadata": {},
   "source": [
    "<a id='model-performance'></a>\n",
    "\n",
    "#### Model Performance\n",
    "[back to top](#table-of-contents)"
   ]
  },
  {
   "cell_type": "markdown",
   "id": "29dac22e",
   "metadata": {},
   "source": [
    "<a id='feature-importance'></a>\n",
    "\n",
    "#### Feature Importance\n",
    "[back to top](#table-of-contents)"
   ]
  },
  {
   "cell_type": "markdown",
   "id": "174d7db0",
   "metadata": {},
   "source": [
    "<a id='implications'></a>\n",
    "\n",
    "#### Implications\n",
    "[back to top](#table-of-contents)"
   ]
  },
  {
   "cell_type": "markdown",
   "id": "9c89320c",
   "metadata": {},
   "source": [
    "<a id='conclusion'></a>\n",
    "\n",
    "### Conclusion\n",
    "[back to top](#table-of-contents)"
   ]
  },
  {
   "cell_type": "markdown",
   "id": "a229a94a",
   "metadata": {},
   "source": [
    "<a id='summary'></a>\n",
    "\n",
    "#### Summary\n",
    "[back to top](#table-of-contents)"
   ]
  },
  {
   "cell_type": "markdown",
   "id": "3ecf1484",
   "metadata": {},
   "source": [
    "<a id='limitations'></a>\n",
    "\n",
    "#### Limitations\n",
    "[back to top](#table-of-contents)"
   ]
  },
  {
   "cell_type": "markdown",
   "id": "ecd40bb0",
   "metadata": {},
   "source": [
    "<a id='recommendations'></a>\n",
    "\n",
    "#### Recommendations\n",
    "[back to top](#table-of-contents)"
   ]
  },
  {
   "cell_type": "markdown",
   "id": "a1d54afe",
   "metadata": {},
   "source": [
    "<a id='references'></a>\n",
    "\n",
    "#### References\n",
    "[back to top](#table-of-contents)"
   ]
  },
  {
   "cell_type": "markdown",
   "id": "622a91ec",
   "metadata": {},
   "source": [
    "<a id='code'></a>\n",
    "\n",
    "#### Code\n",
    "[back to top](#table-of-contents)"
   ]
  }
 ],
 "metadata": {
  "kernelspec": {
   "display_name": "Python 3 (ipykernel)",
   "language": "python",
   "name": "python3"
  },
  "language_info": {
   "codemirror_mode": {
    "name": "ipython",
    "version": 3
   },
   "file_extension": ".py",
   "mimetype": "text/x-python",
   "name": "python",
   "nbconvert_exporter": "python",
   "pygments_lexer": "ipython3",
   "version": "3.10.9"
  }
 },
 "nbformat": 4,
 "nbformat_minor": 5
}
